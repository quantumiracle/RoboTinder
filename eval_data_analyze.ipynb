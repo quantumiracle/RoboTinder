{
  "cells": [
    {
      "cell_type": "code",
      "execution_count": 20,
      "metadata": {},
      "outputs": [
        {
          "name": "stdout",
          "output_type": "stream",
          "text": [
            "total number of samples: 509\n",
            "                              user_choice  left_video  right_video  time\n",
            "env_name                                                                \n",
            "ShadowHand                             35          35           35    35\n",
            "ShadowHandBlockStack                   25          25           25    25\n",
            "ShadowHandBottleCap                    33          33           33    33\n",
            "ShadowHandCatchAbreast                 23          23           23    23\n",
            "ShadowHandCatchOver2Underarm           30          30           30    30\n",
            "ShadowHandCatchUnderarm                29          29           29    29\n",
            "ShadowHandDoorCloseInward              28          28           28    28\n",
            "ShadowHandDoorOpenInward               34          34           34    34\n",
            "ShadowHandDoorOpenOutward              34          34           34    34\n",
            "ShadowHandGraspAndPlace                26          26           26    26\n",
            "ShadowHandLiftUnderarm                 29          29           29    29\n",
            "ShadowHandOver                         27          27           27    27\n",
            "ShadowHandPen                          28          28           28    28\n",
            "ShadowHandPushBlock                    25          25           25    25\n",
            "ShadowHandScissors                     30          30           30    30\n",
            "ShadowHandSwitch                       33          33           33    33\n",
            "ShadowHandTwoCatchUnderarm             40          40           40    40\n"
          ]
        }
      ],
      "source": [
        "import pandas as pd\n",
        "\n",
        "df = pd.read_csv(\"crowdsourced-robotinder-demo/flag/flag_data_compare_1&2.csv\")\n",
        "# df.columns = ['env_name', 'user_choice', 'left_video', 'right_video', 'time']\n",
        "total_num = len(df.index)\n",
        "print(f'total number of samples: {total_num}')\n",
        "\n",
        "count_group_df = df.groupby('env_name', as_index=True).count()   \n",
        "print(count_group_df)"
      ]
    },
    {
      "cell_type": "code",
      "execution_count": 21,
      "metadata": {},
      "outputs": [
        {
          "name": "stdout",
          "output_type": "stream",
          "text": [
            "['Not Sure' 'Right' 'Left']\n",
            "Not Sure 268 0.5265225933202358\n",
            "Right 128 0.25147347740667975\n",
            "Left 113 0.2220039292730845\n",
            "509\n"
          ]
        }
      ],
      "source": [
        "all_choices = df.user_choice.unique()\n",
        "print(all_choices)\n",
        "cnts = 0\n",
        "for choice in all_choices:\n",
        "    cnt = df.user_choice.str.count(choice).sum()\n",
        "    print(choice, cnt, cnt/total_num)\n",
        "    cnts += cnt\n",
        "print(cnts)\n"
      ]
    },
    {
      "cell_type": "code",
      "execution_count": 25,
      "metadata": {},
      "outputs": [
        {
          "name": "stdout",
          "output_type": "stream",
          "text": [
            "ShadowHand Not Sure 16 35 0.45714285714285713\n",
            "ShadowHand Right 9 35 0.2571428571428571\n",
            "ShadowHand Left 10 35 0.2857142857142857\n",
            "ShadowHandSwitch Not Sure 14 33 0.42424242424242425\n",
            "ShadowHandSwitch Right 9 33 0.2727272727272727\n",
            "ShadowHandSwitch Left 10 33 0.30303030303030304\n",
            "ShadowHandCatchOver2Underarm Not Sure 14 30 0.4666666666666667\n",
            "ShadowHandCatchOver2Underarm Right 11 30 0.36666666666666664\n",
            "ShadowHandCatchOver2Underarm Left 5 30 0.16666666666666666\n",
            "ShadowHandCatchAbreast Not Sure 11 23 0.4782608695652174\n",
            "ShadowHandCatchAbreast Right 3 23 0.13043478260869565\n",
            "ShadowHandCatchAbreast Left 9 23 0.391304347826087\n",
            "ShadowHandOver Not Sure 13 27 0.48148148148148145\n",
            "ShadowHandOver Right 6 27 0.2222222222222222\n",
            "ShadowHandOver Left 8 27 0.2962962962962963\n",
            "ShadowHandBlockStack Not Sure 11 25 0.44\n",
            "ShadowHandBlockStack Right 7 25 0.28\n",
            "ShadowHandBlockStack Left 7 25 0.28\n",
            "ShadowHandCatchUnderarm Not Sure 15 29 0.5172413793103449\n",
            "ShadowHandCatchUnderarm Right 10 29 0.3448275862068966\n",
            "ShadowHandCatchUnderarm Left 4 29 0.13793103448275862\n",
            "ShadowHandBottleCap Not Sure 19 33 0.5757575757575758\n",
            "ShadowHandBottleCap Right 7 33 0.21212121212121213\n",
            "ShadowHandBottleCap Left 7 33 0.21212121212121213\n",
            "ShadowHandLiftUnderarm Not Sure 13 29 0.4482758620689655\n",
            "ShadowHandLiftUnderarm Right 10 29 0.3448275862068966\n",
            "ShadowHandLiftUnderarm Left 6 29 0.20689655172413793\n",
            "ShadowHandTwoCatchUnderarm Not Sure 22 40 0.55\n",
            "ShadowHandTwoCatchUnderarm Right 8 40 0.2\n",
            "ShadowHandTwoCatchUnderarm Left 10 40 0.25\n",
            "ShadowHandDoorOpenInward Not Sure 21 34 0.6176470588235294\n",
            "ShadowHandDoorOpenInward Right 6 34 0.17647058823529413\n",
            "ShadowHandDoorOpenInward Left 7 34 0.20588235294117646\n",
            "ShadowHandDoorOpenOutward Not Sure 18 34 0.5294117647058824\n",
            "ShadowHandDoorOpenOutward Right 12 34 0.35294117647058826\n",
            "ShadowHandDoorOpenOutward Left 4 34 0.11764705882352941\n",
            "ShadowHandDoorCloseInward Not Sure 17 28 0.6071428571428571\n",
            "ShadowHandDoorCloseInward Right 3 28 0.10714285714285714\n",
            "ShadowHandDoorCloseInward Left 8 28 0.2857142857142857\n",
            "ShadowHandPushBlock Not Sure 13 25 0.52\n",
            "ShadowHandPushBlock Right 7 25 0.28\n",
            "ShadowHandPushBlock Left 5 25 0.2\n",
            "ShadowHandScissors Not Sure 21 30 0.7\n",
            "ShadowHandScissors Right 7 30 0.23333333333333334\n",
            "ShadowHandScissors Left 2 30 0.06666666666666667\n",
            "ShadowHandPen Not Sure 16 28 0.5714285714285714\n",
            "ShadowHandPen Right 8 28 0.2857142857142857\n",
            "ShadowHandPen Left 4 28 0.14285714285714285\n",
            "ShadowHandGraspAndPlace Not Sure 14 26 0.5384615384615384\n",
            "ShadowHandGraspAndPlace Right 5 26 0.19230769230769232\n",
            "ShadowHandGraspAndPlace Left 7 26 0.2692307692307692\n"
          ]
        }
      ],
      "source": [
        "all_envs = df.env_name.unique()\n",
        "for env in all_envs:\n",
        "    total_cnt = len(df[df['env_name']==env])\n",
        "    for choice in all_choices:\n",
        "        cnt = len(df[(df['user_choice']==choice) & (df['env_name']==env)])\n",
        "        print(env, choice, cnt, total_cnt, cnt/total_cnt)\n"
      ]
    },
    {
      "cell_type": "code",
      "execution_count": 27,
      "metadata": {},
      "outputs": [
        {
          "name": "stdout",
          "output_type": "stream",
          "text": [
            "total number of samples: 456\n",
            "                              user_choice  left_video  right_video  time\n",
            "env_name                                                                \n",
            "ShadowHand                             29          29           29    29\n",
            "ShadowHandBlockStack                   27          27           27    27\n",
            "ShadowHandBottleCap                    28          28           28    28\n",
            "ShadowHandCatchAbreast                 27          27           27    27\n",
            "ShadowHandCatchOver2Underarm           19          19           19    19\n",
            "ShadowHandCatchUnderarm                28          28           28    28\n",
            "ShadowHandDoorCloseInward              22          22           22    22\n",
            "ShadowHandDoorOpenInward               26          26           26    26\n",
            "ShadowHandDoorOpenOutward              27          27           27    27\n",
            "ShadowHandGraspAndPlace                31          31           31    31\n",
            "ShadowHandLiftUnderarm                 25          25           25    25\n",
            "ShadowHandOver                         31          31           31    31\n",
            "ShadowHandPen                          27          27           27    27\n",
            "ShadowHandPushBlock                    27          27           27    27\n",
            "ShadowHandScissors                     28          28           28    28\n",
            "ShadowHandSwitch                       28          28           28    28\n",
            "ShadowHandTwoCatchUnderarm             26          26           26    26\n"
          ]
        }
      ],
      "source": [
        "import pandas as pd\n",
        "\n",
        "df = pd.read_csv(\"crowdsourced-robotinder-demo/flag/flag_data_compare_1&4.csv\")\n",
        "df.columns = ['env_name', 'user_choice', 'left_video', 'right_video', 'time']\n",
        "total_num = len(df.index)\n",
        "print(f'total number of samples: {total_num}')\n",
        "\n",
        "count_group_df = df.groupby('env_name', as_index=True).count()   \n",
        "print(count_group_df)"
      ]
    },
    {
      "cell_type": "code",
      "execution_count": 28,
      "metadata": {},
      "outputs": [
        {
          "name": "stdout",
          "output_type": "stream",
          "text": [
            "['Not Sure' 'Right' 'Left']\n",
            "Not Sure 232 0.5087719298245614\n",
            "Right 163 0.3574561403508772\n",
            "Left 61 0.1337719298245614\n",
            "456\n"
          ]
        }
      ],
      "source": [
        "all_choices = df.user_choice.unique()\n",
        "print(all_choices)\n",
        "cnts = 0\n",
        "for choice in all_choices:\n",
        "    cnt = df.user_choice.str.count(choice).sum()\n",
        "    print(choice, cnt, cnt/total_num)\n",
        "    cnts += cnt\n",
        "print(cnts)\n"
      ]
    },
    {
      "cell_type": "code",
      "execution_count": 29,
      "metadata": {},
      "outputs": [
        {
          "name": "stdout",
          "output_type": "stream",
          "text": [
            "ShadowHandBottleCap Not Sure 12 28 0.42857142857142855\n",
            "ShadowHandBottleCap Right 12 28 0.42857142857142855\n",
            "ShadowHandBottleCap Left 4 28 0.14285714285714285\n",
            "ShadowHandBlockStack Not Sure 15 27 0.5555555555555556\n",
            "ShadowHandBlockStack Right 5 27 0.18518518518518517\n",
            "ShadowHandBlockStack Left 7 27 0.25925925925925924\n",
            "ShadowHandDoorCloseInward Not Sure 12 22 0.5454545454545454\n",
            "ShadowHandDoorCloseInward Right 8 22 0.36363636363636365\n",
            "ShadowHandDoorCloseInward Left 2 22 0.09090909090909091\n",
            "ShadowHandDoorOpenOutward Not Sure 10 27 0.37037037037037035\n",
            "ShadowHandDoorOpenOutward Right 13 27 0.48148148148148145\n",
            "ShadowHandDoorOpenOutward Left 4 27 0.14814814814814814\n",
            "ShadowHandCatchOver2Underarm Not Sure 9 19 0.47368421052631576\n",
            "ShadowHandCatchOver2Underarm Right 5 19 0.2631578947368421\n",
            "ShadowHandCatchOver2Underarm Left 5 19 0.2631578947368421\n",
            "ShadowHand Not Sure 18 29 0.6206896551724138\n",
            "ShadowHand Right 9 29 0.3103448275862069\n",
            "ShadowHand Left 2 29 0.06896551724137931\n",
            "ShadowHandPushBlock Not Sure 12 27 0.4444444444444444\n",
            "ShadowHandPushBlock Right 13 27 0.48148148148148145\n",
            "ShadowHandPushBlock Left 2 27 0.07407407407407407\n",
            "ShadowHandOver Not Sure 13 31 0.41935483870967744\n",
            "ShadowHandOver Right 17 31 0.5483870967741935\n",
            "ShadowHandOver Left 1 31 0.03225806451612903\n",
            "ShadowHandSwitch Not Sure 15 28 0.5357142857142857\n",
            "ShadowHandSwitch Right 9 28 0.32142857142857145\n",
            "ShadowHandSwitch Left 4 28 0.14285714285714285\n",
            "ShadowHandPen Not Sure 7 27 0.25925925925925924\n",
            "ShadowHandPen Right 20 27 0.7407407407407407\n",
            "ShadowHandPen Left 0 27 0.0\n",
            "ShadowHandDoorOpenInward Not Sure 13 26 0.5\n",
            "ShadowHandDoorOpenInward Right 8 26 0.3076923076923077\n",
            "ShadowHandDoorOpenInward Left 5 26 0.19230769230769232\n",
            "ShadowHandLiftUnderarm Not Sure 15 25 0.6\n",
            "ShadowHandLiftUnderarm Right 8 25 0.32\n",
            "ShadowHandLiftUnderarm Left 2 25 0.08\n",
            "ShadowHandCatchAbreast Not Sure 16 27 0.5925925925925926\n",
            "ShadowHandCatchAbreast Right 9 27 0.3333333333333333\n",
            "ShadowHandCatchAbreast Left 2 27 0.07407407407407407\n",
            "ShadowHandCatchUnderarm Not Sure 20 28 0.7142857142857143\n",
            "ShadowHandCatchUnderarm Right 5 28 0.17857142857142858\n",
            "ShadowHandCatchUnderarm Left 3 28 0.10714285714285714\n",
            "ShadowHandScissors Not Sure 18 28 0.6428571428571429\n",
            "ShadowHandScissors Right 7 28 0.25\n",
            "ShadowHandScissors Left 3 28 0.10714285714285714\n",
            "ShadowHandTwoCatchUnderarm Not Sure 13 26 0.5\n",
            "ShadowHandTwoCatchUnderarm Right 7 26 0.2692307692307692\n",
            "ShadowHandTwoCatchUnderarm Left 6 26 0.23076923076923078\n",
            "ShadowHandGraspAndPlace Not Sure 14 31 0.45161290322580644\n",
            "ShadowHandGraspAndPlace Right 8 31 0.25806451612903225\n",
            "ShadowHandGraspAndPlace Left 9 31 0.2903225806451613\n"
          ]
        }
      ],
      "source": [
        "all_envs = df.env_name.unique()\n",
        "for env in all_envs:\n",
        "    total_cnt = len(df[df['env_name']==env])\n",
        "    for choice in all_choices:\n",
        "        cnt = len(df[(df['user_choice']==choice) & (df['env_name']==env)])\n",
        "        print(env, choice, cnt, total_cnt, cnt/total_cnt)\n"
      ]
    },
    {
      "cell_type": "code",
      "execution_count": 30,
      "metadata": {},
      "outputs": [
        {
          "name": "stdout",
          "output_type": "stream",
          "text": [
            "total number of samples: 225\n",
            "                            user_choice  left_video  right_video  time\n",
            "env_name                                                              \n",
            "ShadowHandCatchAbreastPen            55          55           55    55\n",
            "ShadowHandCatchUnderarmPen           60          60           60    60\n",
            "ShadowHandGraspAndPlaceEgg           57          57           57    57\n",
            "ShadowHandTwoCatchAbreast            53          53           53    53\n"
          ]
        }
      ],
      "source": [
        "import pandas as pd\n",
        "\n",
        "df = pd.read_csv(\"crowdsourced-robotinder-demo/flag/flag_data_compare_5&6.csv\")\n",
        "df.columns = ['env_name', 'user_choice', 'left_video', 'right_video', 'time']\n",
        "total_num = len(df.index)\n",
        "print(f'total number of samples: {total_num}')\n",
        "\n",
        "count_group_df = df.groupby('env_name', as_index=True).count()   \n",
        "print(count_group_df)"
      ]
    },
    {
      "cell_type": "code",
      "execution_count": 31,
      "metadata": {},
      "outputs": [
        {
          "name": "stdout",
          "output_type": "stream",
          "text": [
            "['Right' 'Left' 'Not Sure']\n",
            "Right 79 0.3511111111111111\n",
            "Left 34 0.1511111111111111\n",
            "Not Sure 112 0.49777777777777776\n",
            "225\n"
          ]
        }
      ],
      "source": [
        "all_choices = df.user_choice.unique()\n",
        "print(all_choices)\n",
        "cnts = 0\n",
        "for choice in all_choices:\n",
        "    cnt = df.user_choice.str.count(choice).sum()\n",
        "    print(choice, cnt, cnt/total_num)\n",
        "    cnts += cnt\n",
        "print(cnts)\n"
      ]
    },
    {
      "cell_type": "code",
      "execution_count": 32,
      "metadata": {},
      "outputs": [
        {
          "name": "stdout",
          "output_type": "stream",
          "text": [
            "ShadowHandGraspAndPlaceEgg Right 28 57 0.49122807017543857\n",
            "ShadowHandGraspAndPlaceEgg Left 4 57 0.07017543859649122\n",
            "ShadowHandGraspAndPlaceEgg Not Sure 25 57 0.43859649122807015\n",
            "ShadowHandCatchAbreastPen Right 12 55 0.21818181818181817\n",
            "ShadowHandCatchAbreastPen Left 18 55 0.32727272727272727\n",
            "ShadowHandCatchAbreastPen Not Sure 25 55 0.45454545454545453\n",
            "ShadowHandCatchUnderarmPen Right 20 60 0.3333333333333333\n",
            "ShadowHandCatchUnderarmPen Left 7 60 0.11666666666666667\n",
            "ShadowHandCatchUnderarmPen Not Sure 33 60 0.55\n",
            "ShadowHandTwoCatchAbreast Right 19 53 0.3584905660377358\n",
            "ShadowHandTwoCatchAbreast Left 5 53 0.09433962264150944\n",
            "ShadowHandTwoCatchAbreast Not Sure 29 53 0.5471698113207547\n"
          ]
        }
      ],
      "source": [
        "all_envs = df.env_name.unique()\n",
        "for env in all_envs:\n",
        "    total_cnt = len(df[df['env_name']==env])\n",
        "    for choice in all_choices:\n",
        "        cnt = len(df[(df['user_choice']==choice) & (df['env_name']==env)])\n",
        "        print(env, choice, cnt, total_cnt, cnt/total_cnt)\n"
      ]
    },
    {
      "cell_type": "code",
      "execution_count": null,
      "metadata": {},
      "outputs": [],
      "source": []
    }
  ],
  "metadata": {
    "colab": {
      "collapsed_sections": [
        "_gDkU-j-fCmZ",
        "3Zpv4S0-fDBv"
      ],
      "name": "Stock_NeurIPS2018.ipynb",
      "provenance": []
    },
    "kernelspec": {
      "display_name": "Python 3.7.0 ('x')",
      "language": "python",
      "name": "python3"
    },
    "language_info": {
      "codemirror_mode": {
        "name": "ipython",
        "version": 3
      },
      "file_extension": ".py",
      "mimetype": "text/x-python",
      "name": "python",
      "nbconvert_exporter": "python",
      "pygments_lexer": "ipython3",
      "version": "3.7.0"
    },
    "vscode": {
      "interpreter": {
        "hash": "28c6861e59928cb790236f7047915368f37afc12f670e78fd0101a6f825a02b1"
      }
    }
  },
  "nbformat": 4,
  "nbformat_minor": 0
}
