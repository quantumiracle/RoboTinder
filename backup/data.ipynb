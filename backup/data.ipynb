{
  "cells": [
    {
      "cell_type": "code",
      "execution_count": 1,
      "metadata": {},
      "outputs": [
        {
          "name": "stderr",
          "output_type": "stream",
          "text": [
            "Using custom data configuration quantumiracle-git--robotinder-data-c9a94e17988b8e05\n",
            "Found cached dataset imagefolder (/home/quantumiracle/.cache/huggingface/datasets/quantumiracle-git___imagefolder/quantumiracle-git--robotinder-data-c9a94e17988b8e05/0.0.0/37fbb85cc714a338bea574ac6c7d0b5be5aff46c1862c1989b20e0771199e93f)\n",
            "100%|██████████| 1/1 [00:00<00:00, 544.64it/s]"
          ]
        },
        {
          "name": "stdout",
          "output_type": "stream",
          "text": [
            "DatasetDict({\n",
            "    train: Dataset({\n",
            "        features: ['image', 'label'],\n",
            "        num_rows: 20\n",
            "    })\n",
            "}) {'image': <PIL.GifImagePlugin.GifImageFile image mode=P size=684x512 at 0x7F7449FC6E48>, 'label': 0}\n"
          ]
        },
        {
          "name": "stderr",
          "output_type": "stream",
          "text": [
            "\n"
          ]
        }
      ],
      "source": [
        "from datasets import load_dataset, load_from_disk\n",
        "\n",
        "dataset = load_dataset(\"quantumiracle-git/robotinder-data\")\n",
        "dataset.save_to_disk(\"test.hf\")\n",
        "print(dataset, dataset['train'][0])"
      ]
    },
    {
      "cell_type": "code",
      "execution_count": 2,
      "metadata": {},
      "outputs": [
        {
          "name": "stdout",
          "output_type": "stream",
          "text": [
            "<PIL.GifImagePlugin.GifImageFile image mode=P size=795x512 at 0x7F744996F358> 1\n"
          ]
        }
      ],
      "source": [
        "d = dataset['train'][11]['image']\n",
        "d = dataset['train'][11]['image']\n",
        "print(dataset['train'][11]['image'], dataset['train'][11]['label'])"
      ]
    },
    {
      "cell_type": "code",
      "execution_count": 3,
      "metadata": {},
      "outputs": [
        {
          "name": "stdout",
          "output_type": "stream",
          "text": [
            "Dataset({\n",
            "    features: ['image', 'label'],\n",
            "    num_rows: 20\n",
            "})\n"
          ]
        }
      ],
      "source": [
        "print(dataset['train'])"
      ]
    },
    {
      "cell_type": "code",
      "execution_count": null,
      "metadata": {},
      "outputs": [],
      "source": []
    }
  ],
  "metadata": {
    "colab": {
      "collapsed_sections": [
        "_gDkU-j-fCmZ",
        "3Zpv4S0-fDBv"
      ],
      "name": "Stock_NeurIPS2018.ipynb",
      "provenance": []
    },
    "kernelspec": {
      "display_name": "Python 3.7.0 ('x')",
      "language": "python",
      "name": "python3"
    },
    "language_info": {
      "codemirror_mode": {
        "name": "ipython",
        "version": 3
      },
      "file_extension": ".py",
      "mimetype": "text/x-python",
      "name": "python",
      "nbconvert_exporter": "python",
      "pygments_lexer": "ipython3",
      "version": "3.7.0"
    },
    "vscode": {
      "interpreter": {
        "hash": "28c6861e59928cb790236f7047915368f37afc12f670e78fd0101a6f825a02b1"
      }
    }
  },
  "nbformat": 4,
  "nbformat_minor": 0
}
