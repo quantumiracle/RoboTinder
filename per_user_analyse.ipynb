{
  "cells": [
    {
      "cell_type": "code",
      "execution_count": 1,
      "metadata": {},
      "outputs": [
        {
          "name": "stdout",
          "output_type": "stream",
          "text": [
            "                  env_name user_choice  \\\n",
            "0     ShadowHandBlockStack    Not Sure   \n",
            "1   ShadowHandLiftUnderarm        Left   \n",
            "2       ShadowHandScissors        Left   \n",
            "3      ShadowHandBottleCap       Right   \n",
            "4  ShadowHandCatchUnderarm    Not Sure   \n",
            "\n",
            "                                          left_video  \\\n",
            "0  processed-data/itr4/ShadowHandBlockStack/Shado...   \n",
            "1  processed-data/itr4/ShadowHandLiftUnderarm/Sha...   \n",
            "2  processed-data/itr4/ShadowHandScissors/ShadowH...   \n",
            "3  processed-data/itr4/ShadowHandBottleCap/Shadow...   \n",
            "4  processed-data/itr4/ShadowHandCatchUnderarm/Sh...   \n",
            "\n",
            "                                         right_video                 time  \\\n",
            "0  processed-data/itr4/ShadowHandBlockStack/Shado...  2023-02-05-17-06-50   \n",
            "1  processed-data/itr4/ShadowHandLiftUnderarm/Sha...  2023-02-06-15-42-40   \n",
            "2  processed-data/itr4/ShadowHandScissors/ShadowH...  2023-02-06-15-43-13   \n",
            "3  processed-data/itr4/ShadowHandBottleCap/Shadow...  2023-02-06-15-43-27   \n",
            "4  processed-data/itr4/ShadowHandCatchUnderarm/Sh...  2023-02-06-15-43-43   \n",
            "\n",
            "   user_id  \n",
            "0      zhd  \n",
            "1  Xiao Ma  \n",
            "2  Xiao Ma  \n",
            "3  Xiao Ma  \n",
            "4  Xiao Ma  \n",
            "total number of samples: 706\n"
          ]
        }
      ],
      "source": [
        "import pandas as pd\n",
        "\n",
        "iter = 4\n",
        "df = pd.read_csv(f'crowdsourced-robotinder-demo/flag_data{iter}.csv')\n",
        "if iter >2:\n",
        "    df.columns = ['env_name', 'user_choice', 'left_video', 'right_video', 'time', 'user_id']\n",
        "else:\n",
        "    df.columns = ['env_name', 'user_choice', 'left_video', 'right_video', 'time']\n",
        "\n",
        "print(df.head(5))\n",
        "print(f'total number of samples: {len(df.index)}')\n"
      ]
    },
    {
      "cell_type": "code",
      "execution_count": 2,
      "metadata": {},
      "outputs": [],
      "source": [
        "# select 17 envs\n",
        "env_list = ['ShadowHand', 'ShadowHandCatchAbreast', 'ShadowHandOver', 'ShadowHandBlockStack', 'ShadowHandCatchUnderarm',\n",
        "        'ShadowHandCatchOver2Underarm', 'ShadowHandBottleCap', 'ShadowHandLiftUnderarm', 'ShadowHandTwoCatchUnderarm', 'ShadowHandDoorOpenInward',\n",
        "        'ShadowHandDoorOpenOutward', 'ShadowHandDoorCloseInward', 'ShadowHandGraspAndPlace', 'ShadowHandPushBlock',\n",
        "        'ShadowHandScissors', 'ShadowHandPen', 'ShadowHandSwitch']"
      ]
    },
    {
      "cell_type": "markdown",
      "metadata": {},
      "source": [
        "## Across-user Analysis"
      ]
    },
    {
      "cell_type": "code",
      "execution_count": 106,
      "metadata": {},
      "outputs": [
        {
          "name": "stdout",
          "output_type": "stream",
          "text": [
            "{'ShadowHand': [0, 0, 0, 0, 0, 0, 0, 0, 0, 0], 'ShadowHandCatchAbreast': [0, 0, 0, 0, 0, 0, 0, 0, 0, 0], 'ShadowHandOver': [0, 0, 0, 0, 0, 0, 0, 0, 0, 0], 'ShadowHandBlockStack': [0, 0, 0, 0, 0, 0, 0, 0, 0, 0], 'ShadowHandCatchUnderarm': [0, 0, 0, 0, 0, 0, 0, 0, 0, 0], 'ShadowHandCatchOver2Underarm': [0, 0, 0, 0, 0, 0, 0, 0, 0, 0], 'ShadowHandBottleCap': [0, 0, 0, 0, 0, 0, 0, 0, 0, 0], 'ShadowHandLiftUnderarm': [0, 0, 0, 0, 0, 0, 0, 0, 0, 0], 'ShadowHandTwoCatchUnderarm': [0, 0, 0, 0, 0, 0, 0, 0, 0, 0], 'ShadowHandDoorOpenInward': [0, 0, 0, 0, 0, 0, 0, 0, 0, 0], 'ShadowHandDoorOpenOutward': [0, 0, 0, 0, 0, 0, 0, 0, 0, 0], 'ShadowHandDoorCloseInward': [0, 0, 0, 0, 0, 0, 0, 0, 0, 0], 'ShadowHandGraspAndPlace': [0, 0, 0, 0, 0, 0, 0, 0, 0, 0], 'ShadowHandPushBlock': [0, 0, 0, 0, 0, 0, 0, 0, 0, 0], 'ShadowHandScissors': [0, 0, 0, 0, 0, 0, 0, 0, 0, 0], 'ShadowHandPen': [0, 0, 0, 0, 0, 0, 0, 0, 0, 0], 'ShadowHandSwitch': [0, 0, 0, 0, 0, 0, 0, 0, 0, 0]} 17\n",
            "{'ShadowHand': [-0.004228329809725159, -0.0021141649048625794, 0.006342494714587738, 0.0021141649048625794, 0.0, 0.006342494714587738, -0.0021141649048625794, 0.0021141649048625794, -0.006342494714587738, -0.0021141649048625794], 'ShadowHandCatchAbreast': [0.0021141649048625794, 0.006342494714587738, 0.0021141649048625794, 0.0, -0.0021141649048625794, 0.004228329809725159, -0.008456659619450317, 0.0021141649048625794, -0.0021141649048625794, -0.004228329809725159], 'ShadowHandOver': [0.006342494714587738, 0.008456659619450317, 0.010570824524312896, -0.014799154334038054, 0.004228329809725159, -0.004228329809725159, -0.008456659619450317, -0.004228329809725159, -0.0021141649048625794, 0.004228329809725159], 'ShadowHandBlockStack': [0.006342494714587738, 0.006342494714587738, 0.004228329809725159, 0.0021141649048625794, 0.006342494714587738, -0.008456659619450317, -0.006342494714587738, -0.004228329809725159, 0.004228329809725159, -0.010570824524312896], 'ShadowHandCatchUnderarm': [-0.0021141649048625794, 0.0, 0.0021141649048625794, -0.010570824524312896, 0.006342494714587738, 0.0021141649048625794, -0.0021141649048625794, 0.0, 0.0, 0.004228329809725159], 'ShadowHandCatchOver2Underarm': [0.012684989429175475, 0.010570824524312896, 0.004228329809725159, -0.012684989429175475, 0.0021141649048625794, -0.006342494714587738, -0.010570824524312896, -0.004228329809725159, 0.006342494714587738, -0.0021141649048625794], 'ShadowHandBottleCap': [0.0, -0.004228329809725159, -0.0021141649048625794, -0.0021141649048625794, 0.0021141649048625794, 0.004228329809725159, -0.004228329809725159, 0.0, 0.010570824524312896, -0.004228329809725159], 'ShadowHandLiftUnderarm': [-0.004228329809725159, -0.0021141649048625794, 0.0, 0.0, 0.004228329809725159, -0.004228329809725159, 0.0, 0.0, -0.0021141649048625794, 0.008456659619450317], 'ShadowHandTwoCatchUnderarm': [-0.010570824524312896, -0.006342494714587738, -0.010570824524312896, 0.010570824524312896, -0.010570824524312896, 0.010570824524312896, 0.0, 0.012684989429175475, 0.004228329809725159, 0.0], 'ShadowHandDoorOpenInward': [0.012684989429175475, 0.006342494714587738, 0.014799154334038054, -0.004228329809725159, 0.012684989429175475, -0.006342494714587738, -0.006342494714587738, -0.004228329809725159, -0.012684989429175475, -0.012684989429175475], 'ShadowHandDoorOpenOutward': [0.004228329809725159, -0.0021141649048625794, 0.004228329809725159, 0.016913319238900635, 0.0, 0.004228329809725159, -0.0021141649048625794, -0.008456659619450317, -0.004228329809725159, -0.012684989429175475], 'ShadowHandDoorCloseInward': [-0.014799154334038054, -0.008456659619450317, -0.0021141649048625794, -0.019027484143763214, -0.006342494714587738, 0.010570824524312896, 0.008456659619450317, 0.019027484143763214, 0.006342494714587738, 0.006342494714587738], 'ShadowHandGraspAndPlace': [0.0, 0.0, 0.0, 0.0, 0.0, 0.023255813953488372, 0.006342494714587738, 0.010570824524312896, -0.014799154334038054, -0.02536997885835095], 'ShadowHandPushBlock': [-0.006342494714587738, 0.006342494714587738, 0.008456659619450317, 0.0, 0.004228329809725159, -0.004228329809725159, -0.008456659619450317, 0.0, 0.0, 0.0], 'ShadowHandScissors': [0.004228329809725159, 0.004228329809725159, 0.0, 0.0, 0.004228329809725159, -0.006342494714587738, 0.0021141649048625794, 0.0021141649048625794, -0.008456659619450317, -0.0021141649048625794], 'ShadowHandPen': [-0.0021141649048625794, 0.004228329809725159, 0.004228329809725159, -0.006342494714587738, 0.0, -0.004228329809725159, 0.0, 0.0, 0.0, 0.004228329809725159], 'ShadowHandSwitch': [-0.019027484143763214, -0.004228329809725159, -0.010570824524312896, 0.0, -0.010570824524312896, -0.0021141649048625794, 0.010570824524312896, 0.008456659619450317, 0.008456659619450317, 0.019027484143763214]}\n",
            "{'ShadowHand': [-0.5, -0.2, 1.0, 0.1111111111111111, 0.0, 0.6, -1.0, 0.14285714285714285, -0.6, -1.0], 'ShadowHandCatchAbreast': [0.3333333333333333, 0.6, 1.0, 0.0, -0.3333333333333333, 1.0, -0.5, 0.3333333333333333, -0.2, -1.0], 'ShadowHandOver': [1.0, 0.6666666666666666, 1.0, -0.6363636363636364, 0.3333333333333333, -0.5, -1.0, -0.25, -1.0, 1.0], 'ShadowHandBlockStack': [0.6, 1.0, 0.5, 0.3333333333333333, 0.3333333333333333, -1.0, -0.6, -0.5, 0.5, -1.0], 'ShadowHandCatchUnderarm': [-0.3333333333333333, 0.0, 0.3333333333333333, -0.7142857142857143, 0.6, 0.14285714285714285, -1.0, 0.0, 0.0, 1.0], 'ShadowHandCatchOver2Underarm': [0.75, 0.7142857142857143, 0.2, -0.75, 0.2, -0.6, -0.7142857142857143, -0.5, 0.6, -0.3333333333333333], 'ShadowHandBottleCap': [0.0, -0.3333333333333333, -1.0, -0.1111111111111111, 0.2, 0.3333333333333333, -0.3333333333333333, 0.0, 0.45454545454545453, -0.5], 'ShadowHandLiftUnderarm': [-0.3333333333333333, -0.2, 0.0, 0.0, 0.25, -0.3333333333333333, 0, 0, -0.3333333333333333, 0.6666666666666666], 'ShadowHandTwoCatchUnderarm': [-0.5555555555555556, -0.6, -1.0, 0.7142857142857143, -0.7142857142857143, 0.7142857142857143, 0.0, 0.75, 0.5, 0.0], 'ShadowHandDoorOpenInward': [1.0, 0.42857142857142855, 0.7777777777777778, -0.2, 1.0, -0.3333333333333333, -0.2727272727272727, -0.2, -1.0, -1.0], 'ShadowHandDoorOpenOutward': [0.3333333333333333, -0.09090909090909091, 0.16666666666666666, 0.8, 0.0, 0.25, -0.2, -1.0, -0.3333333333333333, -1.0], 'ShadowHandDoorCloseInward': [-0.7777777777777778, -1.0, -0.14285714285714285, -0.8181818181818182, -1.0, 1.0, 0.6666666666666666, 1.0, 1.0, 0.6], 'ShadowHandGraspAndPlace': [0, 0, 0, 0, 0, 1.0, 0.3333333333333333, 0.7142857142857143, -0.7777777777777778, -0.8571428571428571], 'ShadowHandPushBlock': [-0.3333333333333333, 0.6, 0.5, 0.0, 0.5, -0.5, -0.5, 0.0, 0.0, 0.0], 'ShadowHandScissors': [0.3333333333333333, 0.5, 0.0, 0.0, 1.0, -0.6, 0.2, 0.2, -0.4, -0.3333333333333333], 'ShadowHandPen': [-1.0, 0.3333333333333333, 0.3333333333333333, -0.6, 0.0, -0.5, 0.0, 0.0, 0.0, 0.5], 'ShadowHandSwitch': [-1.0, -0.25, -1.0, 0.0, -1.0, -0.14285714285714285, 0.7142857142857143, 0.5, 0.6666666666666666, 1.0]}\n"
          ]
        }
      ],
      "source": [
        "import numpy as np\n",
        "import copy \n",
        "\n",
        "pref_list = {env: [0 for _ in np.arange(0, 10)] for env in env_list}\n",
        "choice_nums = {env: [0 for _ in np.arange(0, 10)] for env in env_list}  # as the denominator\n",
        "total_cnt = 0\n",
        "print(pref_list, len(pref_list))\n",
        "for index, row in df.iterrows():\n",
        "    if row['user_choice'] in ['Left', 'Right']:\n",
        "        total_cnt += 1\n",
        "        if iter >2:\n",
        "            env_name = row['left_video'].split('/')[2]  # processed-data/itr3/ShadowHandBottleCap/ShadowHandBottleCap_ppo_38_20230120185342_4000_video-episode-1.mp4\n",
        "            left_seed = int(row['left_video'].split('/')[3].split('_')[2])\n",
        "            right_seed = int(row['right_video'].split('/')[3].split('_')[2])\n",
        "        else:\n",
        "            env_name = row['left_video'].split('/')[1]  # processed-data/ShadowHandBottleCap/ShadowHandBottleCap_ppo_38_20230120185342_4000_video-episode-1.mp4\n",
        "            left_seed = int(row['left_video'].split('/')[2].split('_')[2])\n",
        "            right_seed = int(row['right_video'].split('/')[2].split('_')[2])            \n",
        "        choice_nums[env_name][left_seed-iter*10] += 1\n",
        "        choice_nums[env_name][right_seed-iter*10] += 1\n",
        "        if row['user_choice'] == 'Left':\n",
        "            pref_list[env_name][left_seed-iter*10] += 1\n",
        "            pref_list[env_name][right_seed-iter*10] -= 1  # unprefer\n",
        "        elif row['user_choice'] == 'Right':\n",
        "            pref_list[env_name][right_seed-iter*10] += 1\n",
        "            pref_list[env_name][left_seed-iter*10] -= 1  # unprefer\n",
        "\n",
        "norm_pref_list = copy.deepcopy(pref_list)  # normalize by the total number of choices for env-seed pair\n",
        "for env in env_list:\n",
        "    for i in np.arange(0, 10):\n",
        "        if choice_nums[env][i] == 0:\n",
        "            norm_pref_list[env][i] = 0\n",
        "        else:\n",
        "            norm_pref_list[env][i] = pref_list[env][i] / (choice_nums[env][i])  # +1 avoid zero division\n",
        "\n",
        "            \n",
        "for env in env_list:\n",
        "    for i in np.arange(0, 10):\n",
        "        pref_list[env][i] = pref_list[env][i] / total_cnt\n",
        "print(pref_list)\n",
        "\n",
        "print(norm_pref_list)\n"
      ]
    },
    {
      "cell_type": "code",
      "execution_count": 82,
      "metadata": {},
      "outputs": [
        {
          "data": {
            "text/plain": [
              "<Figure size 432x288 with 0 Axes>"
            ]
          },
          "metadata": {},
          "output_type": "display_data"
        }
      ],
      "source": [
        "import seaborn as sns\n",
        "import pandas as pd\n",
        "import matplotlib.pyplot as plt\n",
        "import os\n",
        "\n",
        "sns.set(font_scale=1.3)\n",
        "\n",
        "for env in env_list:\n",
        "    sns.barplot(x=np.arange(10), y=pref_list[env])\n",
        "    # sns.displot(d ata=pref_list[env], bins=10, color=\"dodgerblue\",  kde=True)\n",
        "    plt.xlabel('Model Index')\n",
        "    plt.ylabel('Human Preference Score')\n",
        "    plt.title(f'{env}')\n",
        "    # autoscale the plot to include all bars and labels\n",
        "    # plt.autoscale(tight=False)\n",
        "    os.makedirs(f'./plot/preference/iter{iter}', exist_ok=True)\n",
        "    plt.savefig(f'./plot/preference/iter{iter}/{env}.png', dpi=300, bbox_inches = 'tight')\n",
        "    # plt.show()\n",
        "    plt.clf()\n"
      ]
    },
    {
      "cell_type": "code",
      "execution_count": 83,
      "metadata": {},
      "outputs": [
        {
          "data": {
            "text/plain": [
              "<Figure size 432x288 with 0 Axes>"
            ]
          },
          "metadata": {},
          "output_type": "display_data"
        }
      ],
      "source": [
        "import seaborn as sns\n",
        "import pandas as pd\n",
        "import matplotlib.pyplot as plt\n",
        "\n",
        "sns.set(font_scale=1.3)\n",
        "\n",
        "for env in env_list:\n",
        "    sns.barplot(x=np.arange(10), y=norm_pref_list[env])\n",
        "    # sns.displot(d ata=pref_list[env], bins=10, color=\"dodgerblue\",  kde=True)\n",
        "    plt.xlabel('Model Index')\n",
        "    plt.ylabel('Human Preference Score')\n",
        "    plt.title(f'{env}')\n",
        "    # autoscale the plot to include all bars and labels\n",
        "    # plt.autoscale(tight=False)\n",
        "    os.makedirs(f'./plot/preference/iter{iter}', exist_ok=True)\n",
        "    plt.savefig(f'./plot/preference/iter{iter}/{env}_norm.png', dpi=300, bbox_inches = 'tight')\n",
        "    # plt.show()\n",
        "    plt.clf()\n"
      ]
    },
    {
      "cell_type": "markdown",
      "metadata": {},
      "source": [
        "## Per-user Analysis"
      ]
    },
    {
      "cell_type": "code",
      "execution_count": 3,
      "metadata": {},
      "outputs": [
        {
          "name": "stdout",
          "output_type": "stream",
          "text": [
            "total number of users: 6\n",
            "user: Alen, number of samples: 30\n",
            "user: Allen, number of samples: 94\n",
            "user: Xiao Ma, number of samples: 157\n",
            "user: Yuqi Nie, number of samples: 49\n",
            "user: yuanpei, number of samples: 181\n",
            "user: zhd, number of samples: 194\n"
          ]
        }
      ],
      "source": [
        "dfs = [y for x, y in df.groupby('user_id')]\n",
        "users = [x for x, y in df.groupby('user_id')]\n",
        "\n",
        "print(f'total number of users: {len(dfs)}') \n",
        "for u, d in zip(users, dfs):\n",
        "    # print(d.head(5))\n",
        "    print(f'user: {u}, number of samples: {len(d.index)}')\n",
        "\n",
        "per_user_df = dfs[0]\n"
      ]
    },
    {
      "cell_type": "code",
      "execution_count": 111,
      "metadata": {},
      "outputs": [
        {
          "name": "stdout",
          "output_type": "stream",
          "text": [
            "17\n",
            "17\n"
          ]
        },
        {
          "name": "stderr",
          "output_type": "stream",
          "text": [
            "/home/quantumiracle/anaconda3/envs/x/lib/python3.7/site-packages/ipykernel_launcher.py:40: RuntimeWarning: More than 20 figures have been opened. Figures created through the pyplot interface (`matplotlib.pyplot.figure`) are retained until explicitly closed and may consume too much memory. (To control this warning, see the rcParam `figure.max_open_warning`).\n"
          ]
        },
        {
          "name": "stdout",
          "output_type": "stream",
          "text": [
            "17\n",
            "17\n",
            "17\n"
          ]
        },
        {
          "data": {
            "text/plain": [
              "<Figure size 360x288 with 0 Axes>"
            ]
          },
          "metadata": {},
          "output_type": "display_data"
        },
        {
          "data": {
            "text/plain": [
              "<Figure size 360x288 with 0 Axes>"
            ]
          },
          "metadata": {},
          "output_type": "display_data"
        },
        {
          "data": {
            "text/plain": [
              "<Figure size 360x288 with 0 Axes>"
            ]
          },
          "metadata": {},
          "output_type": "display_data"
        },
        {
          "data": {
            "text/plain": [
              "<Figure size 360x288 with 0 Axes>"
            ]
          },
          "metadata": {},
          "output_type": "display_data"
        },
        {
          "data": {
            "text/plain": [
              "<Figure size 360x288 with 0 Axes>"
            ]
          },
          "metadata": {},
          "output_type": "display_data"
        },
        {
          "data": {
            "text/plain": [
              "<Figure size 360x288 with 0 Axes>"
            ]
          },
          "metadata": {},
          "output_type": "display_data"
        },
        {
          "data": {
            "text/plain": [
              "<Figure size 360x288 with 0 Axes>"
            ]
          },
          "metadata": {},
          "output_type": "display_data"
        },
        {
          "data": {
            "text/plain": [
              "<Figure size 360x288 with 0 Axes>"
            ]
          },
          "metadata": {},
          "output_type": "display_data"
        },
        {
          "data": {
            "text/plain": [
              "<Figure size 360x288 with 0 Axes>"
            ]
          },
          "metadata": {},
          "output_type": "display_data"
        },
        {
          "data": {
            "text/plain": [
              "<Figure size 360x288 with 0 Axes>"
            ]
          },
          "metadata": {},
          "output_type": "display_data"
        },
        {
          "data": {
            "text/plain": [
              "<Figure size 360x288 with 0 Axes>"
            ]
          },
          "metadata": {},
          "output_type": "display_data"
        },
        {
          "data": {
            "text/plain": [
              "<Figure size 360x288 with 0 Axes>"
            ]
          },
          "metadata": {},
          "output_type": "display_data"
        },
        {
          "data": {
            "text/plain": [
              "<Figure size 360x288 with 0 Axes>"
            ]
          },
          "metadata": {},
          "output_type": "display_data"
        },
        {
          "data": {
            "text/plain": [
              "<Figure size 360x288 with 0 Axes>"
            ]
          },
          "metadata": {},
          "output_type": "display_data"
        },
        {
          "data": {
            "text/plain": [
              "<Figure size 360x288 with 0 Axes>"
            ]
          },
          "metadata": {},
          "output_type": "display_data"
        },
        {
          "data": {
            "text/plain": [
              "<Figure size 360x288 with 0 Axes>"
            ]
          },
          "metadata": {},
          "output_type": "display_data"
        },
        {
          "data": {
            "text/plain": [
              "<Figure size 360x288 with 0 Axes>"
            ]
          },
          "metadata": {},
          "output_type": "display_data"
        },
        {
          "data": {
            "text/plain": [
              "<Figure size 360x288 with 0 Axes>"
            ]
          },
          "metadata": {},
          "output_type": "display_data"
        },
        {
          "data": {
            "text/plain": [
              "<Figure size 360x288 with 0 Axes>"
            ]
          },
          "metadata": {},
          "output_type": "display_data"
        },
        {
          "data": {
            "text/plain": [
              "<Figure size 360x288 with 0 Axes>"
            ]
          },
          "metadata": {},
          "output_type": "display_data"
        },
        {
          "data": {
            "text/plain": [
              "<Figure size 360x288 with 0 Axes>"
            ]
          },
          "metadata": {},
          "output_type": "display_data"
        },
        {
          "data": {
            "text/plain": [
              "<Figure size 360x288 with 0 Axes>"
            ]
          },
          "metadata": {},
          "output_type": "display_data"
        },
        {
          "data": {
            "text/plain": [
              "<Figure size 360x288 with 0 Axes>"
            ]
          },
          "metadata": {},
          "output_type": "display_data"
        },
        {
          "data": {
            "text/plain": [
              "<Figure size 360x288 with 0 Axes>"
            ]
          },
          "metadata": {},
          "output_type": "display_data"
        },
        {
          "data": {
            "text/plain": [
              "<Figure size 360x288 with 0 Axes>"
            ]
          },
          "metadata": {},
          "output_type": "display_data"
        },
        {
          "data": {
            "text/plain": [
              "<Figure size 360x288 with 0 Axes>"
            ]
          },
          "metadata": {},
          "output_type": "display_data"
        },
        {
          "data": {
            "text/plain": [
              "<Figure size 360x288 with 0 Axes>"
            ]
          },
          "metadata": {},
          "output_type": "display_data"
        },
        {
          "data": {
            "text/plain": [
              "<Figure size 360x288 with 0 Axes>"
            ]
          },
          "metadata": {},
          "output_type": "display_data"
        },
        {
          "data": {
            "text/plain": [
              "<Figure size 360x288 with 0 Axes>"
            ]
          },
          "metadata": {},
          "output_type": "display_data"
        },
        {
          "data": {
            "text/plain": [
              "<Figure size 360x288 with 0 Axes>"
            ]
          },
          "metadata": {},
          "output_type": "display_data"
        },
        {
          "data": {
            "text/plain": [
              "<Figure size 360x288 with 0 Axes>"
            ]
          },
          "metadata": {},
          "output_type": "display_data"
        },
        {
          "data": {
            "text/plain": [
              "<Figure size 360x288 with 0 Axes>"
            ]
          },
          "metadata": {},
          "output_type": "display_data"
        },
        {
          "data": {
            "text/plain": [
              "<Figure size 360x288 with 0 Axes>"
            ]
          },
          "metadata": {},
          "output_type": "display_data"
        },
        {
          "data": {
            "text/plain": [
              "<Figure size 360x288 with 0 Axes>"
            ]
          },
          "metadata": {},
          "output_type": "display_data"
        },
        {
          "data": {
            "text/plain": [
              "<Figure size 360x288 with 0 Axes>"
            ]
          },
          "metadata": {},
          "output_type": "display_data"
        },
        {
          "data": {
            "text/plain": [
              "<Figure size 360x288 with 0 Axes>"
            ]
          },
          "metadata": {},
          "output_type": "display_data"
        },
        {
          "data": {
            "text/plain": [
              "<Figure size 360x288 with 0 Axes>"
            ]
          },
          "metadata": {},
          "output_type": "display_data"
        },
        {
          "data": {
            "text/plain": [
              "<Figure size 360x288 with 0 Axes>"
            ]
          },
          "metadata": {},
          "output_type": "display_data"
        },
        {
          "data": {
            "text/plain": [
              "<Figure size 360x288 with 0 Axes>"
            ]
          },
          "metadata": {},
          "output_type": "display_data"
        },
        {
          "data": {
            "text/plain": [
              "<Figure size 360x288 with 0 Axes>"
            ]
          },
          "metadata": {},
          "output_type": "display_data"
        },
        {
          "data": {
            "text/plain": [
              "<Figure size 360x288 with 0 Axes>"
            ]
          },
          "metadata": {},
          "output_type": "display_data"
        },
        {
          "data": {
            "text/plain": [
              "<Figure size 360x288 with 0 Axes>"
            ]
          },
          "metadata": {},
          "output_type": "display_data"
        },
        {
          "data": {
            "text/plain": [
              "<Figure size 360x288 with 0 Axes>"
            ]
          },
          "metadata": {},
          "output_type": "display_data"
        },
        {
          "data": {
            "text/plain": [
              "<Figure size 360x288 with 0 Axes>"
            ]
          },
          "metadata": {},
          "output_type": "display_data"
        },
        {
          "data": {
            "text/plain": [
              "<Figure size 360x288 with 0 Axes>"
            ]
          },
          "metadata": {},
          "output_type": "display_data"
        },
        {
          "data": {
            "text/plain": [
              "<Figure size 360x288 with 0 Axes>"
            ]
          },
          "metadata": {},
          "output_type": "display_data"
        },
        {
          "data": {
            "text/plain": [
              "<Figure size 360x288 with 0 Axes>"
            ]
          },
          "metadata": {},
          "output_type": "display_data"
        },
        {
          "data": {
            "text/plain": [
              "<Figure size 360x288 with 0 Axes>"
            ]
          },
          "metadata": {},
          "output_type": "display_data"
        },
        {
          "data": {
            "text/plain": [
              "<Figure size 360x288 with 0 Axes>"
            ]
          },
          "metadata": {},
          "output_type": "display_data"
        },
        {
          "data": {
            "text/plain": [
              "<Figure size 360x288 with 0 Axes>"
            ]
          },
          "metadata": {},
          "output_type": "display_data"
        },
        {
          "data": {
            "text/plain": [
              "<Figure size 360x288 with 0 Axes>"
            ]
          },
          "metadata": {},
          "output_type": "display_data"
        },
        {
          "data": {
            "text/plain": [
              "<Figure size 360x288 with 0 Axes>"
            ]
          },
          "metadata": {},
          "output_type": "display_data"
        },
        {
          "data": {
            "text/plain": [
              "<Figure size 360x288 with 0 Axes>"
            ]
          },
          "metadata": {},
          "output_type": "display_data"
        },
        {
          "data": {
            "text/plain": [
              "<Figure size 360x288 with 0 Axes>"
            ]
          },
          "metadata": {},
          "output_type": "display_data"
        },
        {
          "data": {
            "text/plain": [
              "<Figure size 360x288 with 0 Axes>"
            ]
          },
          "metadata": {},
          "output_type": "display_data"
        },
        {
          "data": {
            "text/plain": [
              "<Figure size 360x288 with 0 Axes>"
            ]
          },
          "metadata": {},
          "output_type": "display_data"
        },
        {
          "data": {
            "text/plain": [
              "<Figure size 360x288 with 0 Axes>"
            ]
          },
          "metadata": {},
          "output_type": "display_data"
        },
        {
          "data": {
            "text/plain": [
              "<Figure size 360x288 with 0 Axes>"
            ]
          },
          "metadata": {},
          "output_type": "display_data"
        },
        {
          "data": {
            "text/plain": [
              "<Figure size 360x288 with 0 Axes>"
            ]
          },
          "metadata": {},
          "output_type": "display_data"
        },
        {
          "data": {
            "text/plain": [
              "<Figure size 360x288 with 0 Axes>"
            ]
          },
          "metadata": {},
          "output_type": "display_data"
        },
        {
          "data": {
            "text/plain": [
              "<Figure size 360x288 with 0 Axes>"
            ]
          },
          "metadata": {},
          "output_type": "display_data"
        },
        {
          "data": {
            "text/plain": [
              "<Figure size 360x288 with 0 Axes>"
            ]
          },
          "metadata": {},
          "output_type": "display_data"
        },
        {
          "data": {
            "text/plain": [
              "<Figure size 360x288 with 0 Axes>"
            ]
          },
          "metadata": {},
          "output_type": "display_data"
        },
        {
          "data": {
            "text/plain": [
              "<Figure size 360x288 with 0 Axes>"
            ]
          },
          "metadata": {},
          "output_type": "display_data"
        },
        {
          "data": {
            "text/plain": [
              "<Figure size 360x288 with 0 Axes>"
            ]
          },
          "metadata": {},
          "output_type": "display_data"
        },
        {
          "data": {
            "text/plain": [
              "<Figure size 360x288 with 0 Axes>"
            ]
          },
          "metadata": {},
          "output_type": "display_data"
        },
        {
          "data": {
            "text/plain": [
              "<Figure size 360x288 with 0 Axes>"
            ]
          },
          "metadata": {},
          "output_type": "display_data"
        },
        {
          "data": {
            "text/plain": [
              "<Figure size 360x288 with 0 Axes>"
            ]
          },
          "metadata": {},
          "output_type": "display_data"
        },
        {
          "data": {
            "text/plain": [
              "<Figure size 360x288 with 0 Axes>"
            ]
          },
          "metadata": {},
          "output_type": "display_data"
        },
        {
          "data": {
            "text/plain": [
              "<Figure size 360x288 with 0 Axes>"
            ]
          },
          "metadata": {},
          "output_type": "display_data"
        },
        {
          "data": {
            "text/plain": [
              "<Figure size 360x288 with 0 Axes>"
            ]
          },
          "metadata": {},
          "output_type": "display_data"
        },
        {
          "data": {
            "text/plain": [
              "<Figure size 360x288 with 0 Axes>"
            ]
          },
          "metadata": {},
          "output_type": "display_data"
        },
        {
          "data": {
            "text/plain": [
              "<Figure size 360x288 with 0 Axes>"
            ]
          },
          "metadata": {},
          "output_type": "display_data"
        },
        {
          "data": {
            "text/plain": [
              "<Figure size 360x288 with 0 Axes>"
            ]
          },
          "metadata": {},
          "output_type": "display_data"
        },
        {
          "data": {
            "text/plain": [
              "<Figure size 360x288 with 0 Axes>"
            ]
          },
          "metadata": {},
          "output_type": "display_data"
        },
        {
          "data": {
            "text/plain": [
              "<Figure size 360x288 with 0 Axes>"
            ]
          },
          "metadata": {},
          "output_type": "display_data"
        },
        {
          "data": {
            "text/plain": [
              "<Figure size 360x288 with 0 Axes>"
            ]
          },
          "metadata": {},
          "output_type": "display_data"
        },
        {
          "data": {
            "text/plain": [
              "<Figure size 360x288 with 0 Axes>"
            ]
          },
          "metadata": {},
          "output_type": "display_data"
        },
        {
          "data": {
            "text/plain": [
              "<Figure size 360x288 with 0 Axes>"
            ]
          },
          "metadata": {},
          "output_type": "display_data"
        },
        {
          "data": {
            "text/plain": [
              "<Figure size 360x288 with 0 Axes>"
            ]
          },
          "metadata": {},
          "output_type": "display_data"
        },
        {
          "data": {
            "text/plain": [
              "<Figure size 360x288 with 0 Axes>"
            ]
          },
          "metadata": {},
          "output_type": "display_data"
        },
        {
          "data": {
            "text/plain": [
              "<Figure size 360x288 with 0 Axes>"
            ]
          },
          "metadata": {},
          "output_type": "display_data"
        },
        {
          "data": {
            "text/plain": [
              "<Figure size 360x288 with 0 Axes>"
            ]
          },
          "metadata": {},
          "output_type": "display_data"
        },
        {
          "data": {
            "text/plain": [
              "<Figure size 360x288 with 0 Axes>"
            ]
          },
          "metadata": {},
          "output_type": "display_data"
        },
        {
          "data": {
            "text/plain": [
              "<Figure size 360x288 with 0 Axes>"
            ]
          },
          "metadata": {},
          "output_type": "display_data"
        }
      ],
      "source": [
        "import numpy as np\n",
        "import copy \n",
        "\n",
        "\n",
        "for idx, (per_user_df, user) in enumerate(zip(dfs, users)):\n",
        "    pref_list = {env: [0 for _ in np.arange(0, 10)] for env in env_list}\n",
        "    choice_nums = {env: [0 for _ in np.arange(0, 10)] for env in env_list}  # as the denominator\n",
        "    total_cnt = 0\n",
        "    print(len(pref_list))\n",
        "    for index, row in per_user_df.iterrows():\n",
        "        if row['user_choice'] in ['Left', 'Right']:\n",
        "            total_cnt += 1\n",
        "            if iter >2:\n",
        "                env_name = row['left_video'].split('/')[2]  # processed-data/itr3/ShadowHandBottleCap/ShadowHandBottleCap_ppo_38_20230120185342_4000_video-episode-1.mp4\n",
        "                left_seed = int(row['left_video'].split('/')[3].split('_')[2])\n",
        "                right_seed = int(row['right_video'].split('/')[3].split('_')[2])\n",
        "            else:\n",
        "                env_name = row['left_video'].split('/')[1]  # processed-data/ShadowHandBottleCap/ShadowHandBottleCap_ppo_38_20230120185342_4000_video-episode-1.mp4\n",
        "                left_seed = int(row['left_video'].split('/')[2].split('_')[2])\n",
        "                right_seed = int(row['right_video'].split('/')[2].split('_')[2])            \n",
        "            choice_nums[env_name][left_seed-iter*10] += 1\n",
        "            choice_nums[env_name][right_seed-iter*10] += 1\n",
        "            if row['user_choice'] == 'Left':\n",
        "                pref_list[env_name][left_seed-iter*10] += 1\n",
        "                pref_list[env_name][right_seed-iter*10] -= 1  # unprefer\n",
        "            elif row['user_choice'] == 'Right':\n",
        "                pref_list[env_name][right_seed-iter*10] += 1\n",
        "                pref_list[env_name][left_seed-iter*10] -= 1  # unprefer\n",
        "\n",
        "    # print(user, pref_list, total_cnt)\n",
        "    for env in env_list:\n",
        "        for i in np.arange(0, 10):\n",
        "            pref_list[env][i] = pref_list[env][i] / total_cnt  # the individual total count \n",
        "    # print(user, pref_list, total_cnt)\n",
        "\n",
        "\n",
        "    sns.set(font_scale=1.3)\n",
        "\n",
        "    for env in env_list:\n",
        "        plt.figure(figsize=(5, 4))\n",
        "        plt.ylim(-0.05, 0.05)\n",
        "        sns.barplot(x=np.arange(10), y=pref_list[env])\n",
        "        # sns.displot(d ata=pref_list[env], bins=10, color=\"dodgerblue\",  kde=True)\n",
        "        plt.xlabel('Model Index')\n",
        "        plt.ylabel('Human Preference Score')\n",
        "        plt.title(f'{env}: Labler {idx+1}')\n",
        "        # autoscale the plot to include all bars and labels\n",
        "        # plt.autoscale(tight=False)\n",
        "        os.makedirs(f'./plot/preference/iter{iter}/per_user/{user}', exist_ok=True)\n",
        "        plt.savefig(f'./plot/preference/iter{iter}/per_user/{user}/{env}.png', dpi=300, bbox_inches = 'tight')\n",
        "        # plt.show()\n",
        "        plt.clf()\n"
      ]
    },
    {
      "cell_type": "code",
      "execution_count": 91,
      "metadata": {},
      "outputs": [
        {
          "name": "stdout",
          "output_type": "stream",
          "text": [
            "['ShadowHand' 'ShadowHandBlockStack' 'ShadowHandBottleCap'\n",
            " 'ShadowHandCatchAbreast' 'ShadowHandCatchOver2Underarm'\n",
            " 'ShadowHandCatchUnderarm' 'ShadowHandDoorCloseInward'\n",
            " 'ShadowHandDoorOpenInward' 'ShadowHandDoorOpenOutward'\n",
            " 'ShadowHandGraspAndPlace' 'ShadowHandLiftUnderarm' 'ShadowHandOver'\n",
            " 'ShadowHandPen' 'ShadowHandPushBlock' 'ShadowHandScissors'\n",
            " 'ShadowHandSwitch' 'ShadowHandTwoCatchUnderarm']\n"
          ]
        }
      ],
      "source": [
        "all_envs = df.env_name.unique()\n",
        "for env in all_envs:\n",
        "    # print(env, df.loc[df['env_name']==env])\n",
        "    pass\n",
        "all_envs.sort()\n",
        "print(all_envs)\n"
      ]
    }
  ],
  "metadata": {
    "colab": {
      "collapsed_sections": [
        "_gDkU-j-fCmZ",
        "3Zpv4S0-fDBv"
      ],
      "name": "Stock_NeurIPS2018.ipynb",
      "provenance": []
    },
    "kernelspec": {
      "display_name": "Python 3.7.0 ('x')",
      "language": "python",
      "name": "python3"
    },
    "language_info": {
      "codemirror_mode": {
        "name": "ipython",
        "version": 3
      },
      "file_extension": ".py",
      "mimetype": "text/x-python",
      "name": "python",
      "nbconvert_exporter": "python",
      "pygments_lexer": "ipython3",
      "version": "3.7.0"
    },
    "vscode": {
      "interpreter": {
        "hash": "28c6861e59928cb790236f7047915368f37afc12f670e78fd0101a6f825a02b1"
      }
    }
  },
  "nbformat": 4,
  "nbformat_minor": 0
}
